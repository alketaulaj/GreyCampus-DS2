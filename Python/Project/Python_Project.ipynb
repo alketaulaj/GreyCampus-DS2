{
 "cells": [
  {
   "cell_type": "code",
   "execution_count": null,
   "metadata": {},
   "outputs": [],
   "source": [
    "Description:\n",
    "\n",
    "1. Create a program in Python, to check if a given number is prime.\n",
    "\n",
    "2. Add a function to take user input.\n",
    "\n",
    "3. Also must have a function where the number is predetermined.\n",
    "\n",
    "4. Use if...else\n",
    "\n",
    "5. Use loops (Which one? Its your job to think)\n",
    "\n",
    "6. If the number is prime or not should be printed as an output.\n",
    "\n",
    "7. I need interpretation as comments at each chunk of code."
   ]
  },
  {
   "cell_type": "code",
   "execution_count": 3,
   "metadata": {},
   "outputs": [
    {
     "name": "stdout",
     "output_type": "stream",
     "text": [
      "11 it is a prime number\n"
     ]
    }
   ],
   "source": [
    "# Create a program in Python, to check if a given number is prime.\n",
    "\n",
    "# define the number, value is predetermined\n",
    "x = 11\n",
    "\n",
    "# define boolean variable, to use to check if prime or not\n",
    "a = False\n",
    "\n",
    "# prime numbers are greater than 1\n",
    "if x > 1:\n",
    "    # run the loop for factors\n",
    "    for i in range(2, x):\n",
    "        if (x % i) == 0:\n",
    "            # if factor is found, set boolean true\n",
    "            a = True\n",
    "            # break out of loop\n",
    "            break\n",
    "\n",
    "# check if boolean variable is true\n",
    "if a:\n",
    "    print(x, \"it is not a prime number\") # when the number written is prime this will be shown on the users screen\n",
    "else:\n",
    "    print(x, \"it is a prime number\") # when the number written is not prime this will be shown on the users screen"
   ]
  },
  {
   "cell_type": "code",
   "execution_count": 10,
   "metadata": {},
   "outputs": [
    {
     "name": "stdout",
     "output_type": "stream",
     "text": [
      "Write down a number: 13\n",
      "13 it is a prime number\n"
     ]
    }
   ],
   "source": [
    "# Create a program in Python, to check if a given number is prime.\n",
    "\n",
    "# Ask the user to put a number down\n",
    "x = int(input(\"Write down a number: \"))\n",
    "\n",
    "# define boolean variable, to use to check if prime or not\n",
    "a = False\n",
    "\n",
    "# prime numbers are greater than 1\n",
    "if x > 1:\n",
    "    # run the loop for factors\n",
    "    for i in range(2, x):\n",
    "        if (x % i) == 0:\n",
    "            # if factor is found, set boolean true\n",
    "            a = True\n",
    "            # break out of loop\n",
    "            break\n",
    "\n",
    "# check if boolean variable is true\n",
    "if a:\n",
    "    print(x, \"it is not a prime number\") # when the number written is prime this will be shown on the users screen\n",
    "else:\n",
    "    print(x, \"it is a prime number\") # when the number written is not prime this will be shown on the users screen"
   ]
  },
  {
   "cell_type": "code",
   "execution_count": 12,
   "metadata": {},
   "outputs": [
    {
     "name": "stdout",
     "output_type": "stream",
     "text": [
      "11 is a prime number\n"
     ]
    }
   ],
   "source": [
    "# Use loops (Which one? Its your job to think)\n",
    "\n",
    "# define the number, value is predetermined\n",
    "x = 11\n",
    "\n",
    "# prime numbers are greater than 1\n",
    "if x > 1:\n",
    "  # run the loop for factors\n",
    "   for i in range(2, x):\n",
    "       if (x % i) == 0:\n",
    "           print(x, \"it is not a prime number\")\n",
    "           print(i, \"times\", x//i, \"is\", x)\n",
    "           break\n",
    "   else:\n",
    "       print(x, \"is a prime number\")\n",
    "# when the input is less than 1 it is not a prime nr\n",
    "else:\n",
    "   print(x, \"it is not a prime number\")"
   ]
  },
  {
   "cell_type": "code",
   "execution_count": null,
   "metadata": {},
   "outputs": [],
   "source": []
  }
 ],
 "metadata": {
  "kernelspec": {
   "display_name": "Python 3",
   "language": "python",
   "name": "python3"
  },
  "language_info": {
   "codemirror_mode": {
    "name": "ipython",
    "version": 3
   },
   "file_extension": ".py",
   "mimetype": "text/x-python",
   "name": "python",
   "nbconvert_exporter": "python",
   "pygments_lexer": "ipython3",
   "version": "3.8.5"
  }
 },
 "nbformat": 4,
 "nbformat_minor": 4
}
